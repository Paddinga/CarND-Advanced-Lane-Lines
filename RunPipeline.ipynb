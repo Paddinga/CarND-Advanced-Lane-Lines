{
 "cells": [
  {
   "cell_type": "code",
   "execution_count": 1,
   "metadata": {},
   "outputs": [
    {
     "name": "stdout",
     "output_type": "stream",
     "text": [
      "# Calibration initialized ...\n",
      "# Camera calibrated with: 20 images\n",
      "[MoviePy] >>>> Building video test1.mp4\n",
      "[MoviePy] Writing video test1.mp4\n"
     ]
    },
    {
     "name": "stderr",
     "output_type": "stream",
     "text": [
      "100%|█████████▉| 1260/1261 [04:35<00:00,  5.04it/s]\n"
     ]
    },
    {
     "name": "stdout",
     "output_type": "stream",
     "text": [
      "[MoviePy] Done.\n",
      "[MoviePy] >>>> Video ready: test1.mp4 \n",
      "\n"
     ]
    }
   ],
   "source": [
    "from camera_calibration import CameraCalibration\n",
    "from detection_pipeline import LaneLineDetector\n",
    "from moviepy.editor import VideoFileClip\n",
    "\n",
    "camcal = CameraCalibration()\n",
    "camcal.calibrate_camera()\n",
    "det = LaneLineDetector(camcal)\n",
    "\n",
    "output = 'test1.mp4'\n",
    "clip1 = VideoFileClip('project_video.mp4')\n",
    "clip = clip1.fl_image(det.pipeline)\n",
    "clip.write_videofile(output, audio=False)"
   ]
  },
  {
   "cell_type": "code",
   "execution_count": null,
   "metadata": {
    "collapsed": true
   },
   "outputs": [],
   "source": []
  }
 ],
 "metadata": {
  "kernelspec": {
   "display_name": "Python 3",
   "language": "python",
   "name": "python3"
  },
  "language_info": {
   "codemirror_mode": {
    "name": "ipython",
    "version": 3
   },
   "file_extension": ".py",
   "mimetype": "text/x-python",
   "name": "python",
   "nbconvert_exporter": "python",
   "pygments_lexer": "ipython3",
   "version": "3.5.2"
  },
  "widgets": {
   "state": {},
   "version": "1.1.2"
  }
 },
 "nbformat": 4,
 "nbformat_minor": 2
}
